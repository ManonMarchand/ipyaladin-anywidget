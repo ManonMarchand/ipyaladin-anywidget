{
 "cells": [
  {
   "cell_type": "code",
   "execution_count": 3,
   "metadata": {},
   "outputs": [],
   "source": [
    "import anywidget\n",
    "import traitlets\n",
    "from pathlib import Path"
   ]
  },
  {
   "cell_type": "code",
   "execution_count": 23,
   "metadata": {},
   "outputs": [],
   "source": [
    "class Ipyaladin(anywidget.AnyWidget):\n",
    "    height = traitlets.Int(400).tag(sync=True)\n",
    "    _esm = \"ipyaladin-anywidget.mjs\"\n",
    "    "
   ]
  },
  {
   "cell_type": "code",
   "execution_count": 30,
   "metadata": {},
   "outputs": [],
   "source": [
    "test = Ipyaladin()"
   ]
  },
  {
   "cell_type": "code",
   "execution_count": 31,
   "metadata": {},
   "outputs": [
    {
     "data": {
      "application/vnd.jupyter.widget-view+json": {
       "model_id": "d2d5bbad6a8e412d96d43beeadec9bdf",
       "version_major": 2,
       "version_minor": 0
      },
      "text/plain": [
       "Ipyaladin()"
      ]
     },
     "execution_count": 31,
     "metadata": {},
     "output_type": "execute_result"
    }
   ],
   "source": [
    "test"
   ]
  },
  {
   "cell_type": "code",
   "execution_count": 21,
   "metadata": {},
   "outputs": [],
   "source": [
    "\n",
    "class CounterWidget(anywidget.AnyWidget):\n",
    "    _esm = \"\"\"\n",
    "    export function render({ model, el }) {\n",
    "      let getCount = () => model.get(\"count\");\n",
    "      let button = document.createElement(\"button\");\n",
    "      button.classList.add(\"counter-button\");\n",
    "      button.innerHTML = `count is ${getCount()}`;\n",
    "      button.addEventListener(\"click\", () => {\n",
    "        model.set(\"count\", getCount() + 1);\n",
    "        model.save_changes();\n",
    "      });\n",
    "      model.on(\"change:count\", () => {\n",
    "        button.innerHTML = `count is ${getCount()}`;\n",
    "      });\n",
    "      el.appendChild(button);\n",
    "    }\n",
    "    \"\"\"\n",
    "    _css=\"\"\"\n",
    "    .counter-button { background-color: #ea580c; }\n",
    "    .counter-button:hover { background-color: #9a3412; }\n",
    "    \"\"\"\n",
    "    count = traitlets.Int(0).tag(sync=True)\n",
    "\n"
   ]
  },
  {
   "cell_type": "code",
   "execution_count": 14,
   "metadata": {},
   "outputs": [
    {
     "data": {
      "application/vnd.jupyter.widget-view+json": {
       "model_id": "e74e023ec8bd48778ed8844ad834dd93",
       "version_major": 2,
       "version_minor": 0
      },
      "text/plain": [
       "CounterWidget(count=42)"
      ]
     },
     "execution_count": 14,
     "metadata": {},
     "output_type": "execute_result"
    }
   ],
   "source": [
    "counter = CounterWidget()\n",
    "counter.count = 42\n",
    "counter"
   ]
  },
  {
   "cell_type": "code",
   "execution_count": 15,
   "metadata": {},
   "outputs": [
    {
     "data": {
      "application/vnd.jupyter.widget-view+json": {
       "model_id": "e74e023ec8bd48778ed8844ad834dd93",
       "version_major": 2,
       "version_minor": 0
      },
      "text/plain": [
       "CounterWidget(count=47)"
      ]
     },
     "execution_count": 15,
     "metadata": {},
     "output_type": "execute_result"
    }
   ],
   "source": [
    "counter"
   ]
  },
  {
   "cell_type": "code",
   "execution_count": null,
   "metadata": {},
   "outputs": [],
   "source": []
  }
 ],
 "metadata": {
  "kernelspec": {
   "display_name": "Python 3 (ipykernel)",
   "language": "python",
   "name": "python3"
  },
  "language_info": {
   "codemirror_mode": {
    "name": "ipython",
    "version": 3
   },
   "file_extension": ".py",
   "mimetype": "text/x-python",
   "name": "python",
   "nbconvert_exporter": "python",
   "pygments_lexer": "ipython3",
   "version": "3.12.0"
  }
 },
 "nbformat": 4,
 "nbformat_minor": 4
}
